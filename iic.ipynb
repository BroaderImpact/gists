{
 "cells": [
  {
   "attachments": {},
   "cell_type": "markdown",
   "metadata": {},
   "source": [
    "## Assembling Geospatial Data for Interactive Map of Organizations\n",
    "\n",
    "Coordinating the work of a coalition is difficult on a local level. The problem is further compounded for statewide and national coordination. The need for clear, concise visualization of organizations committed to the cause of IIC was presented by a member organization."
   ]
  },
  {
   "cell_type": "code",
   "execution_count": null,
   "metadata": {},
   "outputs": [],
   "source": [
    "import folium\n",
    "\n",
    "# Create a map object\n",
    "map = folium.Map(location=[37.0902, -95.7129], zoom_start=4)\n",
    "\n",
    "# List of Interfaith Immigration Coalition organizations and their locations\n",
    "orgs = [\"Interfaith Action of Central Texas\", \"Interfaith Works of Central New York\", \"Interfaith Worker Justice\", \"Interfaith Ministries for Greater Houston\"]\n",
    "cities = [\"Austin, TX\", \"Syracuse, NY\", \"Chicago, IL\", \"Houston, TX\"]\n",
    "\n",
    "# Loop through the organizations and their cities\n",
    "for org, city in zip(orgs, cities):\n",
    "    # Get the latitude and longitude of the city using geocoding\n",
    "    location = folium.Map(location=city).location\n",
    "    # Create a marker for the location\n",
    "    marker = folium.Marker(location=location, popup=org)\n",
    "    # Add the marker to the map\n",
    "    marker.add_to(map)\n",
    "\n",
    "# Display the map\n",
    "map\n",
    "\n"
   ]
  },
  {
   "attachments": {},
   "cell_type": "markdown",
   "metadata": {},
   "source": [
    "By compiling publically available data on member organization HQs, a map was constructed of the dozens of organizations working with the IIC. Interactive map linked [here](https://www.interfaithimmigration.org/about/member-organizations/)."
   ]
  }
 ],
 "metadata": {
  "kernelspec": {
   "display_name": "Python 3",
   "language": "python",
   "name": "python3"
  },
  "language_info": {
   "name": "python",
   "version": "3.10.4"
  },
  "orig_nbformat": 4,
  "vscode": {
   "interpreter": {
    "hash": "3ad933181bd8a04b432d3370b9dc3b0662ad032c4dfaa4e4f1596c548f763858"
   }
  }
 },
 "nbformat": 4,
 "nbformat_minor": 2
}
